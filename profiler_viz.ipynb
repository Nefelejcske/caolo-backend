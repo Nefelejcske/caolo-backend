{
 "cells": [
  {
   "cell_type": "code",
   "execution_count": null,
   "metadata": {},
   "outputs": [],
   "source": [
    "# If you're gonna edit this make sure you use Edit/Clear All Outputs before commiting to save space!\n",
    "\n",
    "import pandas as pd\n",
    "\n",
    "df = pd.read_csv(\"profile.csv\", header=None).dropna()\n",
    "df = df.pivot(columns=0, values=1)\n",
    "dfs = [df[c].dropna() for c in df.columns]\n",
    "\n",
    "aggregated = [\n",
    "    {\n",
    "        'mean': df.mean(),\n",
    "        'count': len(df),\n",
    "        'name': df.name,\n",
    "        'sum': df.sum()\n",
    "    }\n",
    "    for df in dfs\n",
    "]\n",
    "\n",
    "agg = pd.DataFrame(aggregated)\n",
    "agg.plot(kind='bar', y='mean', x='name', logy=True)\n",
    "agg.plot(kind='bar', y='count', x='name', logy=True)\n",
    "agg.plot(kind='bar', y='sum', x='name')\n",
    "\n",
    "agg"
   ]
  }
 ],
 "metadata": {
  "kernelspec": {
   "display_name": "Python 3",
   "language": "python",
   "name": "python3"
  },
  "language_info": {
   "codemirror_mode": {
    "name": "ipython",
    "version": 3
   },
   "file_extension": ".py",
   "mimetype": "text/x-python",
   "name": "python",
   "nbconvert_exporter": "python",
   "pygments_lexer": "ipython3",
   "version": "3.6.6"
  }
 },
 "nbformat": 4,
 "nbformat_minor": 2
}
